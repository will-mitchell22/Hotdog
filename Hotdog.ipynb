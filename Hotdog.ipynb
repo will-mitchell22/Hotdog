{
  "nbformat": 4,
  "nbformat_minor": 0,
  "metadata": {
    "colab": {
      "provenance": []
    },
    "kernelspec": {
      "name": "python3",
      "display_name": "Python 3"
    },
    "language_info": {
      "name": "python"
    }
  },
  "cells": [
    {
      "cell_type": "code",
      "source": [
        "! git clone https://www.github.com/will-mitchell22/Hotdog"
      ],
      "metadata": {
        "id": "i-4O3DsnsKgb"
      },
      "execution_count": null,
      "outputs": []
    },
    {
      "cell_type": "code",
      "source": [
        "import pandas as pd\n",
        "import numpy as np\n",
        "import matplotlib.pyplot as plt"
      ],
      "metadata": {
        "id": "BOMqHzx7s-L8"
      },
      "execution_count": null,
      "outputs": []
    },
    {
      "cell_type": "code",
      "source": [
        "df = pd.read_csv('/content/Hotdog/Hotdog Survey!(Sheet1)-2.csv', encoding='latin1')"
      ],
      "metadata": {
        "id": "v97c4_JXtRTo"
      },
      "execution_count": null,
      "outputs": []
    },
    {
      "cell_type": "code",
      "source": [
        "df.columns = df.columns.str.strip().str.lower().str.replace('[a-zA-Z0-9]', '', regex=True)"
      ],
      "metadata": {
        "id": "X_HU_6OczNxE"
      },
      "execution_count": null,
      "outputs": []
    },
    {
      "cell_type": "code",
      "source": [
        "df.dropna(how='all', inplace=True)"
      ],
      "metadata": {
        "id": "xFsBW3T4z-AE"
      },
      "execution_count": null,
      "outputs": []
    },
    {
      "cell_type": "code",
      "source": [
        "df.dropna(axis=1, how='all', inplace=True)"
      ],
      "metadata": {
        "id": "iiChINwu0YN8"
      },
      "execution_count": null,
      "outputs": []
    },
    {
      "cell_type": "code",
      "source": [
        "df.fillna(\"N/A\", inplace=True)"
      ],
      "metadata": {
        "id": "09exETi80WHV"
      },
      "execution_count": null,
      "outputs": []
    },
    {
      "cell_type": "code",
      "source": [
        "import builtins\n",
        "print = builtins.print"
      ],
      "metadata": {
        "id": "tpj8XSRl0_gk"
      },
      "execution_count": null,
      "outputs": []
    },
    {
      "cell_type": "code",
      "source": [
        "print(f\"Cleaned shape: {df.shape}\\n\")\n",
        "print(df.head())"
      ],
      "metadata": {
        "colab": {
          "base_uri": "https://localhost:8080/"
        },
        "id": "PzE0F5hJ0ija",
        "outputId": "15534cbe-f611-4c33-a743-6e66a5506b3d"
      },
      "execution_count": null,
      "outputs": [
        {
          "output_type": "stream",
          "name": "stdout",
          "text": [
            "Cleaned shape: (106, 9)\n",
            "\n",
            "   Id       Start time  Completion time      Email  Name  \\\n",
            "0   1  1/16/2025 12:02  1/16/2025 12:02  anonymous   NaN   \n",
            "1   2  1/16/2025 12:02  1/16/2025 12:03  anonymous   NaN   \n",
            "2   3  1/16/2025 12:02  1/16/2025 12:03  anonymous   NaN   \n",
            "3   4  1/16/2025 12:02  1/16/2025 12:03  anonymous   NaN   \n",
            "4   5  1/16/2025 12:03  1/16/2025 12:04  anonymous   NaN   \n",
            "\n",
            "  Is a hotdog a sandwich?                               Explain your answer.  \\\n",
            "0                      No                                       its just not   \n",
            "1                      No                                                NaN   \n",
            "2                      No  The bread is connected for a hot dog, while a ...   \n",
            "3                      No  A hot dog is a hot dog with or without the bre...   \n",
            "4                      No  The definition of a sandwich involves TWO piec...   \n",
            "\n",
            "  What year are you?  Where are you from?   \n",
            "0        Fourth-Year                  nova  \n",
            "1        Fourth-Year                   NaN  \n",
            "2        Fourth-Year     Northern Virginia  \n",
            "3        Fourth-Year                  NoVa  \n",
            "4        Fourth-Year        Houston, Texas  \n"
          ]
        }
      ]
    },
    {
      "cell_type": "code",
      "source": [
        "df.to_csv('/content/cleaned_hotdog_survey.csv', index=False)"
      ],
      "metadata": {
        "id": "jT6vBHFp1gFy"
      },
      "execution_count": null,
      "outputs": []
    },
    {
      "cell_type": "code",
      "source": [
        "def create_data_dictionary(df):\n",
        "  data_dict = []\n",
        "  for col in df.columns:\n",
        "    column_info = {\n",
        "        \"Column Name\": col,\n",
        "        \"Data Type\": str(df[col].dtypes),\n",
        "        \"Description\": \"Add a description here\",\n",
        "        \"Unique Values\": df[col].nunique(),\n",
        "        \"Example Values\": df[col].unique()[:5],\n",
        "        \"Missing Values\": df[col].isna().sum(),\n",
        "    }\n",
        "    data_dict.append(column_info)\n",
        "  return pd.DataFrame(data_dict)"
      ],
      "metadata": {
        "id": "84YLnK6R1hMF"
      },
      "execution_count": null,
      "outputs": []
    },
    {
      "cell_type": "code",
      "source": [
        "data_dictionary = create_data_dictionary(df)"
      ],
      "metadata": {
        "id": "DDYtzNf621FZ"
      },
      "execution_count": null,
      "outputs": []
    },
    {
      "cell_type": "code",
      "source": [
        "data_dictionary.to_csv('/content/hotdog_data_dictionary.csv', index=False)"
      ],
      "metadata": {
        "id": "CPDHzhGX26GN"
      },
      "execution_count": null,
      "outputs": []
    },
    {
      "cell_type": "code",
      "source": [
        "print(data_dictionary)"
      ],
      "metadata": {
        "colab": {
          "base_uri": "https://localhost:8080/"
        },
        "id": "WC4Rqad_3UC7",
        "outputId": "5d0fda1b-7cf1-48da-ba7e-bbb69c6b2edf"
      },
      "execution_count": null,
      "outputs": [
        {
          "output_type": "stream",
          "name": "stdout",
          "text": [
            "               Column Name Data Type             Description  Unique Values  \\\n",
            "0                       Id     int64  Add a description here            106   \n",
            "1               Start time    object  Add a description here             52   \n",
            "2          Completion time    object  Add a description here             52   \n",
            "3                    Email    object  Add a description here              1   \n",
            "4                     Name   float64  Add a description here              0   \n",
            "5  Is a hotdog a sandwich?    object  Add a description here              2   \n",
            "6     Explain your answer.    object  Add a description here             82   \n",
            "7      What year are you?     object  Add a description here              4   \n",
            "8     Where are you from?     object  Add a description here             71   \n",
            "\n",
            "                                      Example Values  Missing Values  \n",
            "0                                    [1, 2, 3, 4, 5]               0  \n",
            "1  [1/16/2025 12:02, 1/16/2025 12:03, 1/16/2025 1...               0  \n",
            "2  [1/16/2025 12:02, 1/16/2025 12:03, 1/16/2025 1...               0  \n",
            "3                                        [anonymous]               0  \n",
            "4                                              [nan]             106  \n",
            "5                                         [No, Yes ]               0  \n",
            "6  [its just not, nan, The bread is connected for...              24  \n",
            "7  [Fourth-Year , Second-Year , Graduate Student,...               1  \n",
            "8  [nova, nan, Northern Virginia, NoVa, Houston, ...              10  \n"
          ]
        }
      ]
    },
    {
      "cell_type": "markdown",
      "source": [
        "Social Bias\n",
        "On Yik Yak, you are able to publicly see what other people respond. As a result, there may be bias towards the more popular option as people tend to conform to a crowd.\n",
        "Virginia Residents\n",
        "Yik yak data is based on UVA students, the majority of which are from Virginia. This means that there may be geographic bias towards the responses.\n",
        "Yik Yak User Response\n",
        "People who use Yik Yak likely have stronger opinions. As a result, there may be bias toward one particular response.\n"
      ],
      "metadata": {
        "id": "NrELGZPB3Ykx"
      }
    }
  ]
}